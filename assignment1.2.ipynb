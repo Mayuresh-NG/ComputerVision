{
 "cells": [
  {
   "cell_type": "code",
   "execution_count": null,
   "id": "dc2e8d83",
   "metadata": {},
   "outputs": [],
   "source": [
    "Name : Mayuresh Gorantiwar\n",
    "Roll no : 2205075\n",
    "Enrollment no: MITU20BTIT0038\n",
    "Batch : CORE 1\n",
    "Class : TY-IT"
   ]
  },
  {
   "cell_type": "code",
   "execution_count": null,
   "id": "d82acf69",
   "metadata": {},
   "outputs": [],
   "source": [
    "import numpy as np\n",
    "import cv2\n",
    "import matplotlib.pyplot as plt"
   ]
  },
  {
   "cell_type": "code",
   "execution_count": null,
   "id": "a008d891",
   "metadata": {},
   "outputs": [],
   "source": [
    "def img_scale(Image,sx,sy):\n",
    "    return cv2.resize(src = Image,fx=sx,fy=sy,dsize=None)"
   ]
  },
  {
   "cell_type": "code",
   "execution_count": null,
   "id": "bc3b5b07",
   "metadata": {},
   "outputs": [],
   "source": [
    "def img_rotate(Image,angle,i):\n",
    "    if i==0:\n",
    "        h,w = Image.shape\n",
    "    elif i==1:\n",
    "        h,w,_ = Image.shape\n",
    "        \n",
    "    cr = (w/2,h/2)\n",
    "    M=cv2.getRotationMatrix2D(cr,angle,1)\n",
    "    k = cv2.warpAffine(Image,M,(w,h))\n",
    "    cv2.imshow(\"k\",k)\n",
    "    cv2.waitKey()\n",
    "    cv2.destroyAllWindows()"
   ]
  },
  {
   "cell_type": "code",
   "execution_count": null,
   "id": "52cd147b",
   "metadata": {},
   "outputs": [],
   "source": [
    "def img_reflect(img,i,o):\n",
    "    if i==0:\n",
    "        rows, cols = img.shape\n",
    "    elif i==1:\n",
    "        rows, cols,_ = img.shape\n",
    "        \n",
    "    if o==\"h\":    \n",
    "        M = np.float32([[1,  0, 0],[0, -1, rows],[0,  0, 1]])\n",
    "    elif o==\"v\": \n",
    "        M = np.float32([[-1, 0, cols], [0, 1, 0], [0, 0, 1]])\n",
    "        \n",
    "    reflected_img = cv2.warpPerspective(img, M,\n",
    "                                       (int(cols),\n",
    "                                        int(rows)))\n",
    "    cv2.imshow(\"orignal\",img)\n",
    "    cv2.imshow(\"image\",reflected_img)\n",
    "    cv2.waitKey()\n",
    "    cv2.destroyAllWindows()"
   ]
  },
  {
   "cell_type": "code",
   "execution_count": null,
   "id": "947e6109",
   "metadata": {},
   "outputs": [],
   "source": [
    "def shear(img,sx,sy,i):\n",
    "    if i==0:\n",
    "        rows, cols = img.shape\n",
    "    elif i==1:\n",
    "        rows, cols,_ = img.shape\n",
    "    shx = sx\n",
    "    M = np.float32([[1, shx, 0], [0, 1, 0], [0, 0, 1]])\n",
    "    sheared_img = cv2.warpPerspective(img, M, (int(cols), int(rows)))\n",
    "    cv2.imshow('sheared_x-axis_out', sheared_img)\n",
    "    cv2.waitKey(0)\n",
    "    cv2.destroyAllWindows()\n",
    "\n",
    "    shy = sy\n",
    "    M = np.float32([[1, 0, 0], [shy, 1, 0], [0,   0, 1]])\n",
    "    sheared_img = cv2.warpPerspective(img, M, (int(cols*1.5), int(rows*1.5)))\n",
    "    cv2.imshow('sheared_y-axis_out', sheared_img)\n",
    "    cv2.waitKey(0)\n",
    "    cv2.destroyAllWindows()"
   ]
  },
  {
   "cell_type": "code",
   "execution_count": null,
   "id": "31a6793c",
   "metadata": {},
   "outputs": [],
   "source": [
    "def main():\n",
    "    gm = r\"C:\\Users\\mayur\\OneDrive\\Pictures\\mona.jpeg\"\n",
    "    ci= r\"C:\\Users\\mayur\\OneDrive\\Pictures\\fruits.jpeg\"\n",
    "    I_gray = cv2.imread(gm,cv2.IMREAD_GRAYSCALE)\n",
    "    I_col = cv2.imread(ci,cv2.IMREAD_COLOR)\n",
    "    #Scale\n",
    "    T_imgb = img_scale(I_gray,2,6)\n",
    "    plt.imshow(T_imgb,cmap='gray')\n",
    "    T_imgc = img_scale(I_col,2,6)\n",
    "    plt.imshow(T_imgc[:,:,::-1])\n",
    "    #Rotate\n",
    "    Ro_imgb = img_rotate(I_gray,30,0)\n",
    "    Ro_imgc = img_rotate(I_col,30,1)\n",
    "    #Rotate using default function\n",
    "    imageb = cv2.rotate(I_gray, cv2.ROTATE_90_CLOCKWISE)\n",
    "    imagec = cv2.rotate(I_col, cv2.ROTATE_90_CLOCKWISE)\n",
    "    cv2.imshow(\"bw\",imageb)\n",
    "    cv2.imshow(\"color\",imagec)\n",
    "    cv2.waitKey()\n",
    "    cv2.destroyAllWindows()\n",
    "    #Reflect\n",
    "    o = input(\"Enter reflection axis between h and v:\")\n",
    "    R_imgb = img_reflect(I_gray,0,o)\n",
    "    R_imgc = img_reflect(I_col,1,o)\n",
    "    #Shearing\n",
    "    S_imgb = shear(I_gray,0.5,0.5,0)\n",
    "    S_imgc = shear(I_col,0.5,0.5,1)\n",
    "    "
   ]
  },
  {
   "cell_type": "code",
   "execution_count": null,
   "id": "fae0d8cf",
   "metadata": {},
   "outputs": [],
   "source": [
    "if __name__ == \"__main__\":\n",
    "    main()"
   ]
  }
 ],
 "metadata": {
  "kernelspec": {
   "display_name": "Python 3 (ipykernel)",
   "language": "python",
   "name": "python3"
  },
  "language_info": {
   "codemirror_mode": {
    "name": "ipython",
    "version": 3
   },
   "file_extension": ".py",
   "mimetype": "text/x-python",
   "name": "python",
   "nbconvert_exporter": "python",
   "pygments_lexer": "ipython3",
   "version": "3.9.13"
  }
 },
 "nbformat": 4,
 "nbformat_minor": 5
}
