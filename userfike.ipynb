{
 "cells": [
  {
   "cell_type": "code",
   "execution_count": 23,
   "id": "a86d0a86",
   "metadata": {},
   "outputs": [],
   "source": [
    "import tkinter as tk\n",
    "from tkinter import *\n",
    "from tkinter import filedialog\n",
    "from tkinter.filedialog import askopenfile\n",
    "from PIL import Image,ImageTk\n",
    "import numpy as np\n",
    "import matplotlib.pyplot as plt\n",
    "\n",
    "my_w = tk.Tk()\n",
    "my_w.geometry(\"50x27\")\n",
    "b1=tk.Button(my_w,text='upload file',width=16,command=lambda:upload_file())\n",
    "b1.grid(row=1,column=1,columnspan=1)\n",
    "\n",
    "def upload_file():\n",
    "    f_types=[('Jpg Files','*.jpg'),('PNG Files','*.png')]\n",
    "    filename=tk.filedialog.askopenfilename(multiple=True,filetypes=f_types)\n",
    "    col=1\n",
    "    row=3\n",
    "    for f in filename:\n",
    "        img=Image.open(f)\n",
    "        im=plt.imread(f)\n",
    "        plt.imshow(im,cmap='gray')\n",
    "my_w.mainloop()"
   ]
  },
  {
   "cell_type": "code",
   "execution_count": null,
   "id": "267d1da5",
   "metadata": {},
   "outputs": [],
   "source": []
  },
  {
   "cell_type": "code",
   "execution_count": null,
   "id": "a0dd19e6",
   "metadata": {},
   "outputs": [],
   "source": []
  }
 ],
 "metadata": {
  "kernelspec": {
   "display_name": "Python 3 (ipykernel)",
   "language": "python",
   "name": "python3"
  },
  "language_info": {
   "codemirror_mode": {
    "name": "ipython",
    "version": 3
   },
   "file_extension": ".py",
   "mimetype": "text/x-python",
   "name": "python",
   "nbconvert_exporter": "python",
   "pygments_lexer": "ipython3",
   "version": "3.9.13"
  }
 },
 "nbformat": 4,
 "nbformat_minor": 5
}
